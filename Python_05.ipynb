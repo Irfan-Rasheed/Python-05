{
  "nbformat": 4,
  "nbformat_minor": 0,
  "metadata": {
    "colab": {
      "name": "Python 05.ipynb",
      "provenance": [],
      "collapsed_sections": []
    },
    "kernelspec": {
      "name": "python3",
      "display_name": "Python 3"
    },
    "language_info": {
      "name": "python"
    }
  },
  "cells": [
    {
      "cell_type": "markdown",
      "source": [
        "Task # 01: Write a program that take two numbers & add them in a\n",
        "new variable."
      ],
      "metadata": {
        "id": "6_Qn-cbWJg82"
      }
    },
    {
      "cell_type": "code",
      "source": [
        "a=input(\"Enter 1St number plzzz: \");\n",
        "b=input(\"Enter 2nd number plzzz: \");\n",
        "c=int(a)+int(b);\n",
        "print(\"Sum of both number is\" , c)"
      ],
      "metadata": {
        "id": "h4R0UmTcJnwh",
        "colab": {
          "base_uri": "https://localhost:8080/"
        },
        "outputId": "95601322-ed98-4433-e190-860690d63a81"
      },
      "execution_count": null,
      "outputs": [
        {
          "output_type": "stream",
          "name": "stdout",
          "text": [
            "Enter 1St number plzzz: 6\n",
            "Enter 2nd number plzzz: 7\n",
            "Sum of both number is 13\n"
          ]
        }
      ]
    },
    {
      "cell_type": "markdown",
      "source": [
        "Task # 02: Repeat task1 for subtraction, multiplication, division &\n",
        "modulus.\n"
      ],
      "metadata": {
        "id": "R0gdcN34Jonr"
      }
    },
    {
      "cell_type": "code",
      "source": [
        "num1=input(\"Enter 1St number plzzz: \");\n",
        "num2=input(\"Enter 2nd number plzzz: \");\n",
        "add=int(num1)+int(num2);\n",
        "print(\"Sum of both number is\" , add);\n",
        "sub=int(num1)-int(num2);\n",
        "print(\"Subtraction of both number is\" , sub);\n",
        "mul=int(num1)*int(num2);\n",
        "print(\"Multiplication of both number is\" , mul);\n",
        "div=int(num1)/int(num2);\n",
        "print(\"Division of both number is\" , div)\n",
        "mod=int(num1)%int(num2);\n",
        "print(\"Modulus of both number is\" , mod)"
      ],
      "metadata": {
        "id": "g6JTiK9XJsLG",
        "colab": {
          "base_uri": "https://localhost:8080/"
        },
        "outputId": "0f0f0887-15b7-4b43-f8a1-19fa3343a0a8"
      },
      "execution_count": null,
      "outputs": [
        {
          "output_type": "stream",
          "name": "stdout",
          "text": [
            "Enter 1St number plzzz: 7\n",
            "Enter 2nd number plzzz: 3\n",
            "Sum of both number is 10\n",
            "Subtraction of both number is 4\n",
            "Multiplication of both number is 21\n",
            "Division of both number is 2.3333333333333335\n",
            "Modulus of both number is 1\n"
          ]
        }
      ]
    },
    {
      "cell_type": "markdown",
      "source": [
        "Task # 03: Do the following Mathematic Expressions\n",
        "\n",
        "a. Declare a variable.\n",
        "\n",
        "b. Show the value of variable in your browser like “Value\n",
        "after variable declaration is: ??”.\n",
        "\n",
        "c. Initialize the variable with some number.\n",
        "\n",
        "d. Show the value of variable in your browser like “Initial\n",
        "value: 5”.\n",
        "\n",
        "e. Increment the variable.\n",
        "\n",
        "f. Show the value of variable in your browser like “Value\n",
        "after increment is: 6”.\n",
        "\n",
        "g. Add 7 to the variable.\n",
        "\n",
        "h. Show the value of variable in your browser like “Value\n",
        "after addition is: 13”.\n",
        "\n",
        "i. Decrement the variable.\n",
        "\n",
        "j. Show the value of variable in your browser like “Value\n",
        "after decrement is: 12”.\n",
        "\n",
        "k. Show the remainder after dividing the variable’s value\n",
        "by 3.\n",
        "\n",
        "l. Output : “The remainder is : 0”.\n"
      ],
      "metadata": {
        "id": "IV0yiNqqJseS"
      }
    },
    {
      "cell_type": "code",
      "source": [
        "a=5;\n",
        "print(\"Intial Value: \",a);\n",
        "a=a+1;\n",
        "print(\"Value after increment is: \",a);\n",
        "a=(a+1)+6;\n",
        "print(\"Value after addition is: \",a);\n",
        "a=a-1;\n",
        "print(\"Value after decrement is: \",a);\n",
        "print(\"The remainder is: \",a%3);"
      ],
      "metadata": {
        "id": "iUGSInndJurG",
        "colab": {
          "base_uri": "https://localhost:8080/"
        },
        "outputId": "894ab7f5-4858-41a6-c1bb-1175f183d91f"
      },
      "execution_count": null,
      "outputs": [
        {
          "output_type": "stream",
          "name": "stdout",
          "text": [
            "Intial Value:  5\n",
            "Value after increment is:  6\n",
            "Value after addition is:  13\n",
            "Value after decrement is:  12\n",
            "The remainder is:  0\n"
          ]
        }
      ]
    },
    {
      "cell_type": "markdown",
      "source": [
        "Task # 04: 4. Cost of one movie ticket is 600 PKR. Write a code to\n",
        "store\n",
        "ticket price in a variable & calculate the cost of buying 5\n",
        "tickets\n",
        "to a movie."
      ],
      "metadata": {
        "id": "vSRYkWiDJvYu"
      }
    },
    {
      "cell_type": "code",
      "source": [
        "cost=600;\n",
        "tickets=input(\"How many tickets do you want to buy? \");\n",
        "total=int(tickets)*int(cost);\n",
        "print(\"Total cost to buy \",tickets,\" Tickets to a Movie is \",total,\"PKR.\");"
      ],
      "metadata": {
        "id": "b_lve0AkJ0jS",
        "colab": {
          "base_uri": "https://localhost:8080/"
        },
        "outputId": "605d1ff1-ef9f-4725-9f09-105a02c6f167"
      },
      "execution_count": null,
      "outputs": [
        {
          "output_type": "stream",
          "name": "stdout",
          "text": [
            "How many tickets do you want to buy? 5\n",
            "Total cost to buy  5  Tickets to a Movie is  3000 PKR.\n"
          ]
        }
      ]
    },
    {
      "cell_type": "markdown",
      "source": [
        "Task # 05: Write a script to display multiplication table of any\n",
        "number in your browser"
      ],
      "metadata": {
        "id": "vwJzIktMJ05P"
      }
    },
    {
      "cell_type": "code",
      "source": [
        "table=input(\"Table Which You Want to See\");\n",
        "for i in range(1,11):\n",
        "  print(table , \"X\" , i , \"=\" , int(table)*int(i));\n"
      ],
      "metadata": {
        "id": "-yl82OZ1KAhg",
        "colab": {
          "base_uri": "https://localhost:8080/"
        },
        "outputId": "3e8cccf5-706b-4967-eb04-6a57fcb3ce4f"
      },
      "execution_count": null,
      "outputs": [
        {
          "output_type": "stream",
          "name": "stdout",
          "text": [
            "Table Which You Want to See9\n",
            "9 X 1 = 9\n",
            "9 X 2 = 18\n",
            "9 X 3 = 27\n",
            "9 X 4 = 36\n",
            "9 X 5 = 45\n",
            "9 X 6 = 54\n",
            "9 X 7 = 63\n",
            "9 X 8 = 72\n",
            "9 X 9 = 81\n",
            "9 X 10 = 90\n"
          ]
        }
      ]
    },
    {
      "cell_type": "markdown",
      "source": [
        "Task # 06: The Temperature Converter: It’s hot out! Let’s make a\n",
        "converter based on the steps here.\n",
        "\n",
        "a. Store a Celsius temperature into a variable.\n",
        "\n",
        "b. Convert it to Fahrenheit & output “NNoC is NNoF”.\n",
        "\n",
        "c. Now store a Fahrenheit temperature into a variable.\n",
        "\n",
        "d. Convert it to Celsius & output “NNoF is NNoC”."
      ],
      "metadata": {
        "id": "FNUtGJbAKA1k"
      }
    },
    {
      "cell_type": "code",
      "source": [
        "CT=25;\n",
        "FT=(CT*9/5)+32;\n",
        "print(CT,\"C is \",FT,\"F\" );\n",
        "\n",
        "FT=70;\n",
        "CT=(FT-32)*5/9;\n",
        "print(FT,\"F is \",CT,\"C\" );\n",
        "\n"
      ],
      "metadata": {
        "id": "0p-r0_UaKDka",
        "colab": {
          "base_uri": "https://localhost:8080/"
        },
        "outputId": "b76df851-0633-43cf-8768-fc3ee08d9156"
      },
      "execution_count": null,
      "outputs": [
        {
          "output_type": "stream",
          "name": "stdout",
          "text": [
            "25 C is  77.0 F\n",
            "70 F is  21.11111111111111 C\n"
          ]
        }
      ]
    },
    {
      "cell_type": "markdown",
      "source": [
        "Task # 07: Write a program to implement checkout process of a\n",
        "shopping cart system for an e-commerce website. Store\n",
        "the following in variables\n",
        "\n",
        "a. Price of item 1\n",
        "\n",
        "b. Price of item 2\n",
        "\n",
        "c. Ordered quantity of item 1\n",
        "\n",
        "d. Ordered Quantity of item 2\n",
        "\n",
        "e. Shipping charges\n"
      ],
      "metadata": {
        "id": "wbZ9ppR3KEHR"
      }
    },
    {
      "cell_type": "code",
      "source": [
        "price1=int(40);\n",
        "price2=int(60);\n",
        "\n",
        "print(\"Price of Lays: \", price1);\n",
        "c=int(input(\"Enter the Quantity of Lays:\"));\n",
        "print(\"Price of Pepsi: \", price2);\n",
        "d=int(input(\"Enter the Quantity of Pepsi:\"));\n",
        "\n",
        "\n",
        "\n",
        "total=price1*c+price2*d;\n",
        "\n",
        "print(\"Total Cost of your Order:\", total);"
      ],
      "metadata": {
        "id": "UGqLL6g5KJCl",
        "colab": {
          "base_uri": "https://localhost:8080/"
        },
        "outputId": "f1ed8c57-0e02-4b1e-8b63-8354d58370e2"
      },
      "execution_count": null,
      "outputs": [
        {
          "output_type": "stream",
          "name": "stdout",
          "text": [
            "Price of Lays:  40\n",
            "Enter the Quantity of Lays:7\n",
            "Price of Pepsi:  60\n",
            "Enter the Quantity of Pepsi:6\n",
            "Total Cost of your Order: 640\n"
          ]
        }
      ]
    },
    {
      "cell_type": "markdown",
      "source": [
        "Task # 08: Store total marks & marks obtained by a student in 2\n",
        "variables. Compute the percentage & show the result."
      ],
      "metadata": {
        "id": "eCoWVuCYKJfd"
      }
    },
    {
      "cell_type": "code",
      "source": [
        "total=int(input(\"Total Marks: \"));\n",
        "obtained=int(input(\"Obtained Marks: \"));\n",
        "print(\"Percentage: \",obtained*100/total);"
      ],
      "metadata": {
        "id": "iXNUNbGsKM9G",
        "colab": {
          "base_uri": "https://localhost:8080/"
        },
        "outputId": "5395b09b-a27a-4bdd-cadf-9f0852ed212d"
      },
      "execution_count": null,
      "outputs": [
        {
          "output_type": "stream",
          "name": "stdout",
          "text": [
            "Total Marks: 850\n",
            "Obtained Marks: 659\n",
            "Percentage:  77.52941176470588\n"
          ]
        }
      ]
    },
    {
      "cell_type": "markdown",
      "source": [
        "Task # 09: Assume we have 10 US dollars & 25 Saudi Riyals. Write a\n",
        "script to convert the total currency to Pakistani Rupees.\n",
        "Perform all calculations in a single expression.\n",
        "\n",
        "(Exchange rates : 1 US Dollar = 104.80 Pakistani Rupee\n",
        "and 1 Saudi Riyal = 28 Pakistani Rupee)"
      ],
      "metadata": {
        "id": "oQ9lT6egKNiq"
      }
    },
    {
      "cell_type": "code",
      "source": [
        "USD=int(input(\"Enter the US Dollar: \"));\n",
        "print(\"Total Currency in PKR: \", USD*104.80 ,\"\\n \\n\")\n",
        "\n",
        "SR=int(input(\"Enter the Saudi Riyal: \"));\n",
        "print(\"Total Currency in PKR: \", SR*28)"
      ],
      "metadata": {
        "id": "toA5CF1hKPtT",
        "colab": {
          "base_uri": "https://localhost:8080/"
        },
        "outputId": "d8414b7a-3e48-49e7-9bdc-b3e90c4c3c40"
      },
      "execution_count": null,
      "outputs": [
        {
          "output_type": "stream",
          "name": "stdout",
          "text": [
            "Enter the US Dollar: 9\n",
            "Total Currency in PKR:  943.1999999999999 \n",
            " \n",
            "\n",
            "Enter the Saudi Riyal: 7\n",
            "Total Currency in PKR:  196\n"
          ]
        }
      ]
    },
    {
      "cell_type": "markdown",
      "source": [
        "Task # 10: Write a program to initialize a variable with some\n",
        "number and do arithmetic in following sequence:\n",
        "\n",
        "a. Add 5\n",
        "\n",
        "b. Multiply by 10\n",
        "\n",
        "c. Divide the result by 2\n",
        "\n",
        "Perform all calculations in a single expression"
      ],
      "metadata": {
        "id": "nVr_gYW5KP_Y"
      }
    },
    {
      "cell_type": "code",
      "source": [
        "a=int(5);\n",
        "print(\"Total: \",(((a+5)*10)/2))"
      ],
      "metadata": {
        "id": "acd-cKIiKSja",
        "colab": {
          "base_uri": "https://localhost:8080/"
        },
        "outputId": "657fc640-7fcc-44b0-f296-60e89a99c20c"
      },
      "execution_count": 11,
      "outputs": [
        {
          "output_type": "stream",
          "name": "stdout",
          "text": [
            "Total:  50.0\n"
          ]
        }
      ]
    },
    {
      "cell_type": "markdown",
      "source": [
        "Task # 11: The Age Calculator: Forgot how old someone is?\n",
        "Calculate it!\n",
        "\n",
        "a. Store the current year in a variable.\n",
        "\n",
        "b. Store their birth year in a variable.\n",
        "\n",
        "c. Calculate their 2 possible ages based on the stored\n",
        "values."
      ],
      "metadata": {
        "id": "JJ9ol_TGKTAW"
      }
    },
    {
      "cell_type": "code",
      "source": [
        "year = int(input(\"Enter the year of Birth: \"));\n",
        "now  = int(2022);\n",
        "age  = now - year;\n",
        "print(\"Current Year: \" , now);\n",
        "print(\"Birth Year: \" , year)\n",
        "print(\"You are \" , age , \" or \" , (age - 1) , \" Years Old.\" );"
      ],
      "metadata": {
        "id": "Z4-yyHqdKVrr",
        "colab": {
          "base_uri": "https://localhost:8080/"
        },
        "outputId": "c9a63eaf-1ba2-4d30-8636-41db6dfa8c4e"
      },
      "execution_count": 13,
      "outputs": [
        {
          "output_type": "stream",
          "name": "stdout",
          "text": [
            "Enter the year of Birth: 2001\n",
            "Current Year:  2022\n",
            "Birth Year:  2001\n",
            "You are  21  or  20  Years Old.\n"
          ]
        }
      ]
    },
    {
      "cell_type": "markdown",
      "source": [
        "Task # 12: The Geometrizer: Calculate properties of a circle.\n",
        "\n",
        "a. Store a radius into a variable.\n",
        "\n",
        "b. Calculate the circumference based on the radius, and\n",
        "output “The circumference is NN”.\n",
        "\n",
        "(Hint : Circumference of a circle = 2 π r , π = 3.142)\n",
        "Calculate the area based on the radius, and output “The\n",
        "area is NN”. (Hint : Area of a circle = π r2, π = 3.142)"
      ],
      "metadata": {
        "id": "m4EiOpNWKWAD"
      }
    },
    {
      "cell_type": "code",
      "source": [
        "rad=int(20);\n",
        "pi=3.142;\n",
        "cir=2*pi*rad;\n",
        "area=pi*rad**2;\n",
        "print(\"The radius of circle is \",rad)\n",
        "print(\"The circumference is \", cir)\n",
        "print(\"The area is \",area)\n"
      ],
      "metadata": {
        "id": "MZyfmrokKYNk",
        "colab": {
          "base_uri": "https://localhost:8080/"
        },
        "outputId": "d073df63-7905-42a3-885d-f8fffd0c5df0"
      },
      "execution_count": 3,
      "outputs": [
        {
          "output_type": "stream",
          "name": "stdout",
          "text": [
            "The radius of circle is  20\n",
            "The circumference is  125.67999999999999\n",
            "The area is  1256.8\n"
          ]
        }
      ]
    },
    {
      "cell_type": "markdown",
      "source": [
        "Task # 13: The Lifetime Supply Calculator: Ever wonder how\n",
        "much a “lifetime supply” of your favorite snack is?\n",
        "Wonder no more.\n",
        "\n",
        "a. Store your favorite snack into a variable.\n",
        "\n",
        "b. Store your current age into a variable.\n",
        "\n",
        "c. Store a maximum age into a variable.\n",
        "\n",
        "d. Store an estimated amount per day (as a number).\n",
        "\n",
        "e. Calculate how many would you eat total for the rest of\n",
        "your life.\n",
        "\n",
        "Output the result to the screen like so: “You will need\n",
        "NNNN to last you until the ripe old age of NN”."
      ],
      "metadata": {
        "id": "bVayZm4rKYt_"
      }
    },
    {
      "cell_type": "code",
      "source": [
        "print(\"The Life Time Supply Calculator\");\n",
        "snack= input(\"Enter your Favourite Snack: \");\n",
        "age = int(input(\"Enter your Age: \"));\n",
        "maxAge = int(65);\n",
        "amountOfSnack = int(input(\"Enter Amount of Snack Per Day: \"));\n",
        "totalNeeded = int(amountOfSnack * 365) * int(maxAge - age);\n",
        "\n",
        "print(\"Favourite Snack: \",snack );\n",
        "print(\"Current Age: \",age);\n",
        "print(\"Estimated Maximum Age: \",maxAge);\n",
        "print(\"Amount of Snack Per Day: \",amountOfSnack);\n",
        "print(\"You will need \" , totalNeeded ,\" \" , snack , \" to last you until the ripe old age of \" , maxAge);"
      ],
      "metadata": {
        "id": "jrIE-LsNKcbp",
        "colab": {
          "base_uri": "https://localhost:8080/"
        },
        "outputId": "4576f861-b4dc-4984-85ec-82185eb9263b"
      },
      "execution_count": 9,
      "outputs": [
        {
          "output_type": "stream",
          "name": "stdout",
          "text": [
            "The Life Time Supply Calculator\n",
            "Enter your Favourite Snack: lays\n",
            "Enter your Age: 20\n",
            "Enter Amount of Snack Per Day: 3\n",
            "Favourite Snack:  lays\n",
            "Current Age:  20\n",
            "Estimated Maximum Age:  65\n",
            "Amount of Snack Per Day:  3\n",
            "You will need  49275   lays  to last you until the ripe old age of  65\n"
          ]
        }
      ]
    }
  ]
}